{
 "cells": [
  {
   "cell_type": "markdown",
   "metadata": {},
   "source": [
    "# Light curve simulation and fitting\n",
    "\n",
    "- https://docs.gammapy.org/dev/tutorials/light_curve_simulation.html\n",
    "\n",
    "- This tutorial explains how to use the temporal models for simulations.\n",
    "\n",
    "- Frequently, studies of variable sources (eg: decaying GRB light curves, AGN flares, etc) require time variable simulations. For most use cases, it is not necessary to generate an event list sampling all events, but generating fake reduced observations in time bins according to a given temporal model suffices \n",
    "\n",
    "**Objective: Simulate and fit a time decaying light curve of a source with CTA using the CTA 1DC response**\n",
    "\n",
    "\n"
   ]
  },
  {
   "cell_type": "markdown",
   "metadata": {},
   "source": [
    "## Setup"
   ]
  },
  {
   "cell_type": "code",
   "execution_count": 1,
   "metadata": {},
   "outputs": [],
   "source": [
    "%matplotlib inline\n",
    "import matplotlib.pyplot as plt\n",
    "import numpy as np\n",
    "import astropy.units as u\n",
    "from astropy.coordinates import SkyCoord, Angle\n",
    "from astropy.time import Time\n",
    "from regions import CircleSkyRegion\n",
    "\n",
    "import logging\n",
    "\n",
    "log = logging.getLogger(__name__)"
   ]
  },
  {
   "cell_type": "markdown",
   "metadata": {},
   "source": [
    "And some gammapy specific imports"
   ]
  },
  {
   "cell_type": "code",
   "execution_count": 3,
   "metadata": {},
   "outputs": [],
   "source": [
    "from gammapy.data import Observation\n",
    "from gammapy.irf import load_cta_irfs\n",
    "from gammapy.datasets import SpectrumDataset, Datasets\n",
    "from gammapy.modeling.models import (\n",
    "    PowerLawSpectralModel,\n",
    "    ExpDecayTemporalModel,\n",
    "    SkyModel,\n",
    "    LightCurveTemplateTemporalModel,\n",
    ")\n",
    "from gammapy.maps import MapAxis\n",
    "from gammapy.estimators import LightCurveEstimator\n",
    "from gammapy.makers import SpectrumDatasetMaker\n",
    "from gammapy.modeling import Fit"
   ]
  },
  {
   "cell_type": "markdown",
   "metadata": {},
   "source": [
    "## GRB190114C\n",
    "\n",
    "From paper of MAGIC collaboration (Nature, 575, 455, 2019)\n",
    "\n",
    "Redshift: z=0.4245\n",
    "\n",
    "Power law spectrum, with Gamma=5.4, F0=4.1e-10 ph/Tev/cm2/s at E0=0.475 TeV in the 0.3-1 TeV band. \n",
    "\n",
    "Power law light curve, with delta=-1.6 [CAVEAT: there is no power law light curve in gammapy!]\n",
    "\n",
    "T0=14 January 2019, 20:57:03 UTC\n",
    "\n",
    "MAGIC observations started T+57s and lasted T0+15912 s\n",
    "\n",
    "\n",
    "## Simulating a light curve\n",
    "\n",
    "We will simulate 10 datasets using an `PowerLawSpectralModel` and a `ExpDecayTemporalModel`. The important thing to note here is how to attach a different `GTI` to each dataset."
   ]
  },
  {
   "cell_type": "code",
   "execution_count": 4,
   "metadata": {},
   "outputs": [],
   "source": [
    "# Loading IRFs\n",
    "irfs = load_cta_irfs(\n",
    "    \"$GAMMAPY_DATA/cta-1dc/caldb/data/cta/1dc/bcf/South_z20_50h/irf_file.fits\"\n",
    ")"
   ]
  },
  {
   "cell_type": "code",
   "execution_count": 5,
   "metadata": {},
   "outputs": [],
   "source": [
    "# Reconstructed and true energy axis\n",
    "center = SkyCoord(0.0, 0.0, unit=\"deg\", frame=\"galactic\")\n",
    "\n",
    "# [Generate an axis object from a sequence of bin edges: \n",
    "# This method should be used to construct an axis where the bin edges \n",
    "# should lie at specific values (e.g. a histogram). \n",
    "# The number of bins will be one less than the number of edges.\n",
    "# 0.32-10.0 TeV (true: 0.05-10 TeV)]\n",
    "energy_axis = MapAxis.from_edges(\n",
    "    np.logspace(-0.5, 1.0, 10), unit=\"TeV\", name=\"energy\", interp=\"log\"\n",
    ")\n",
    "energy_axis_true = MapAxis.from_edges(\n",
    "    np.logspace(-1.2, 2.0, 31), unit=\"TeV\", name=\"energy_true\", interp=\"log\"\n",
    ")\n",
    "\n",
    "on_region_radius = Angle(\"0.11 deg\")\n",
    "on_region = CircleSkyRegion(center=center, radius=on_region_radius)\n",
    "\n"
   ]
  },
  {
   "cell_type": "code",
   "execution_count": 6,
   "metadata": {},
   "outputs": [],
   "source": [
    "# Pointing position\n",
    "pointing = SkyCoord(0.5, 0.5, unit=\"deg\", frame=\"galactic\")"
   ]
  },
  {
   "cell_type": "code",
   "execution_count": 7,
   "metadata": {},
   "outputs": [],
   "source": [
    "# Define the source model: A combination of spectral and temporal model\n",
    "\n",
    "# [Start time]\n",
    "#gti_t0 = Time(\"2021-01-01\")\n",
    "gti_t0 = Time(\"2019-01-14\")\n",
    "\n",
    "\n",
    "# [F(E)=F0(E/E0)^Gamma where index= photon index, amplitude = F(E0), reference=E0]\n",
    "spectral_model = PowerLawSpectralModel(\n",
    "#    index=2.2, amplitude=\"1e-11 cm-2 s-1 TeV-1\", reference=\"1 TeV\"\n",
    "    index=5.4, amplitude=\"4.1e-10 cm-2 s-1 TeV-1\", reference=\"0.475 TeV\"\n",
    ")\n",
    "\n",
    "# [F(t)=exp((t-t_ref)/t0) where t0=decay time scale, t_ref=start time (gti_t0) in mjd \n",
    "# MANCA IL MODELLO TEMPORALE A LEGGE DI POTENZA!! \n",
    "# see https://docs.gammapy.org/dev/_modules/gammapy/modeling/models/temporal.html]\n",
    "#temporal_model = ExpDecayTemporalModel(t0=\"6 h\", t_ref=gti_t0.mjd * u.d)\n",
    "temporal_model = ExpDecayTemporalModel(t0=\"6 h\", t_ref=gti_t0.mjd * u.d)\n",
    "\n",
    "\n",
    "# [F(t,E)=F(E)*exp((t-t_ref)/t0)]\n",
    "model_simu = SkyModel(\n",
    "    spectral_model=spectral_model,\n",
    "    temporal_model=temporal_model,\n",
    "    name=\"model-simu\",\n",
    ")"
   ]
  },
  {
   "cell_type": "code",
   "execution_count": 8,
   "metadata": {},
   "outputs": [
    {
     "data": {
      "text/html": [
       "<i>Table length=5</i>\n",
       "<table id=\"table140582483160928\" class=\"table-striped table-bordered table-condensed\">\n",
       "<thead><tr><th>name</th><th>value</th><th>unit</th><th>min</th><th>max</th><th>frozen</th><th>error</th></tr></thead>\n",
       "<thead><tr><th>str9</th><th>float64</th><th>str14</th><th>float64</th><th>float64</th><th>bool</th><th>int64</th></tr></thead>\n",
       "<tr><td>index</td><td>5.400e+00</td><td></td><td>nan</td><td>nan</td><td>False</td><td>0.000e+00</td></tr>\n",
       "<tr><td>amplitude</td><td>4.100e-10</td><td>cm-2 s-1 TeV-1</td><td>nan</td><td>nan</td><td>False</td><td>0.000e+00</td></tr>\n",
       "<tr><td>reference</td><td>4.750e-01</td><td>TeV</td><td>nan</td><td>nan</td><td>True</td><td>0.000e+00</td></tr>\n",
       "<tr><td>t0</td><td>2.500e-01</td><td>d</td><td>nan</td><td>nan</td><td>False</td><td>0.000e+00</td></tr>\n",
       "<tr><td>t_ref</td><td>5.850e+04</td><td>d</td><td>nan</td><td>nan</td><td>True</td><td>0.000e+00</td></tr>\n",
       "</table>"
      ],
      "text/plain": [
       "<Table length=5>\n",
       "   name     value        unit        min     max   frozen   error  \n",
       "   str9    float64      str14      float64 float64  bool    int64  \n",
       "--------- --------- -------------- ------- ------- ------ ---------\n",
       "    index 5.400e+00                    nan     nan  False 0.000e+00\n",
       "amplitude 4.100e-10 cm-2 s-1 TeV-1     nan     nan  False 0.000e+00\n",
       "reference 4.750e-01            TeV     nan     nan   True 0.000e+00\n",
       "       t0 2.500e-01              d     nan     nan  False 0.000e+00\n",
       "    t_ref 5.850e+04              d     nan     nan   True 0.000e+00"
      ]
     },
     "execution_count": 8,
     "metadata": {},
     "output_type": "execute_result"
    }
   ],
   "source": [
    "# Look at the model\n",
    "model_simu.parameters.to_table()"
   ]
  },
  {
   "cell_type": "markdown",
   "metadata": {},
   "source": [
    "Now, define the start and observation livetime wrt to the reference time, `gti_t0`"
   ]
  },
  {
   "cell_type": "code",
   "execution_count": 11,
   "metadata": {},
   "outputs": [],
   "source": [
    "#n_obs = 10\n",
    "#tstart = [1, 2, 3, 5, 8, 9, 22, 24, 25, 26] * u.h\n",
    "#lvtm = [55, 25, 26, 40, 40, 50, 40, 52, 43, 47] * u.min\n",
    "n_obs = 6\n",
    "tstart = [62, 100, 140, 210, 361.5, 800] * u.s\n",
    "lvtm = [38, 40, 70, 151.5, 38.5, 1654] * u.s"
   ]
  },
  {
   "cell_type": "markdown",
   "metadata": {},
   "source": [
    "Now perform the simulations"
   ]
  },
  {
   "cell_type": "code",
   "execution_count": 12,
   "metadata": {},
   "outputs": [],
   "source": [
    "datasets = Datasets()\n",
    "\n",
    "empty = SpectrumDataset.create(\n",
    "    e_reco=energy_axis.edges,\n",
    "    e_true=energy_axis_true.edges,\n",
    "    region=on_region,\n",
    "    name=\"empty\",\n",
    ")\n",
    "\n",
    "for i in range(n_obs):\n",
    "    obs = Observation.create(\n",
    "        pointing=pointing,\n",
    "        livetime=lvtm[i],\n",
    "        tstart=tstart[i],\n",
    "        irfs=irfs,\n",
    "        reference_time=gti_t0,\n",
    "    )\n",
    "    empty_i = empty.copy(name=f\"dataset_{i}\")\n",
    "    maker = SpectrumDatasetMaker(selection=[\"aeff\", \"background\", \"edisp\"])\n",
    "    dataset = maker.run(empty_i, obs)\n",
    "    dataset.models = model_simu\n",
    "    dataset.fake()\n",
    "    datasets.append(dataset)\n"
   ]
  },
  {
   "cell_type": "markdown",
   "metadata": {},
   "source": [
    "The reduced datasets have been successfully simulated. Let's take a quick look into our datasets."
   ]
  },
  {
   "cell_type": "code",
   "execution_count": 13,
   "metadata": {},
   "outputs": [
    {
     "data": {
      "text/html": [
       "<i>Table length=6</i>\n",
       "<table id=\"table140582483160480\" class=\"table-striped table-bordered table-condensed\">\n",
       "<thead><tr><th>name</th><th>livetime</th><th>n_on</th><th>background</th><th>excess</th><th>significance</th><th>background_rate</th><th>gamma_rate</th></tr></thead>\n",
       "<thead><tr><th></th><th>s</th><th></th><th></th><th></th><th></th><th>1 / s</th><th>1 / s</th></tr></thead>\n",
       "<thead><tr><th>str9</th><th>float64</th><th>int64</th><th>float64</th><th>float64</th><th>float64</th><th>float64</th><th>float64</th></tr></thead>\n",
       "<tr><td>stacked</td><td>38.0</td><td>45</td><td>0.23380101371700857</td><td>44.76619898628299</td><td>19.59241859949663</td><td>0.006152658255710752</td><td>1.1780578680600786</td></tr>\n",
       "<tr><td>dataset_1</td><td>40.0</td><td>69</td><td>0.24610633022843006</td><td>68.75389366977156</td><td>25.303631183260556</td><td>0.006152658255710751</td><td>1.7188473417442889</td></tr>\n",
       "<tr><td>dataset_2</td><td>70.0</td><td>97</td><td>0.4306860778997526</td><td>96.56931392210024</td><td>29.287816741348422</td><td>0.006152658255710751</td><td>1.3795616274585747</td></tr>\n",
       "<tr><td>dataset_3</td><td>151.5</td><td>203</td><td>0.9321277257401789</td><td>202.06787227425983</td><td>42.20855087628738</td><td>0.006152658255710751</td><td>1.3337813351436292</td></tr>\n",
       "<tr><td>dataset_4</td><td>38.5</td><td>45</td><td>0.2368773428448639</td><td>44.76312265715514</td><td>19.562528770460514</td><td>0.00615265825571075</td><td>1.162678510575458</td></tr>\n",
       "<tr><td>dataset_5</td><td>1654.0</td><td>2146</td><td>10.176496754945582</td><td>2135.823503245055</td><td>136.7334896393857</td><td>0.00615265825571075</td><td>1.2913080430743984</td></tr>\n",
       "</table>"
      ],
      "text/plain": [
       "<Table length=6>\n",
       "   name   livetime  n_on ...   background_rate        gamma_rate    \n",
       "             s           ...        1 / s               1 / s       \n",
       "   str9   float64  int64 ...       float64             float64      \n",
       "--------- -------- ----- ... -------------------- ------------------\n",
       "  stacked     38.0    45 ... 0.006152658255710752 1.1780578680600786\n",
       "dataset_1     40.0    69 ... 0.006152658255710751 1.7188473417442889\n",
       "dataset_2     70.0    97 ... 0.006152658255710751 1.3795616274585747\n",
       "dataset_3    151.5   203 ... 0.006152658255710751 1.3337813351436292\n",
       "dataset_4     38.5    45 ...  0.00615265825571075  1.162678510575458\n",
       "dataset_5   1654.0  2146 ...  0.00615265825571075 1.2913080430743984"
      ]
     },
     "execution_count": 13,
     "metadata": {},
     "output_type": "execute_result"
    }
   ],
   "source": [
    "datasets.info_table()"
   ]
  },
  {
   "cell_type": "markdown",
   "metadata": {},
   "source": [
    "## 1. Extract the lightcurve\n",
    "\n",
    "- Using LightCurveEstimator\n",
    "- Temporal model not accounted"
   ]
  },
  {
   "cell_type": "code",
   "execution_count": 14,
   "metadata": {},
   "outputs": [],
   "source": [
    "# Define the model:\n",
    "spectral_model = PowerLawSpectralModel(\n",
    "    index=3, amplitude=\"1e-11 cm-2 s-1 TeV-1\", reference=\"1 TeV\"\n",
    ")\n",
    "model_fit = SkyModel(spectral_model=spectral_model, name=\"model-fit\")"
   ]
  },
  {
   "cell_type": "code",
   "execution_count": 15,
   "metadata": {},
   "outputs": [],
   "source": [
    "# Attach model to each dataset\n",
    "for dataset in datasets:\n",
    "    dataset.models = model_fit"
   ]
  },
  {
   "cell_type": "code",
   "execution_count": 16,
   "metadata": {},
   "outputs": [
    {
     "name": "stdout",
     "output_type": "stream",
     "text": [
      "CPU times: user 537 ms, sys: 6.56 ms, total: 544 ms\n",
      "Wall time: 550 ms\n"
     ]
    }
   ],
   "source": [
    "%%time\n",
    "lc_maker_1d = LightCurveEstimator(\n",
    "    energy_range=[energy_axis.edges[0], energy_axis.edges[-1]],\n",
    "    source=\"model-fit\",\n",
    "    reoptimize=False,\n",
    ")\n",
    "lc_1d = lc_maker_1d.run(datasets)"
   ]
  },
  {
   "cell_type": "code",
   "execution_count": 17,
   "metadata": {},
   "outputs": [
    {
     "data": {
      "image/png": "[encoded data removed]",
      "text/plain": [
       "<Figure size 432x288 with 1 Axes>"
      ]
     },
     "metadata": {
      "needs_background": "light"
     },
     "output_type": "display_data"
    }
   ],
   "source": [
    "ax = lc_1d.plot(marker=\"o\")"
   ]
  },
  {
   "cell_type": "markdown",
   "metadata": {},
   "source": [
    "## 2. Joint fitting\n",
    "- Directly accounting for a temporal model"
   ]
  },
  {
   "cell_type": "code",
   "execution_count": 18,
   "metadata": {},
   "outputs": [],
   "source": [
    "# Define the model:\n",
    "\n",
    "spectral_model1 = PowerLawSpectralModel(\n",
    "    index=2.0, amplitude=\"1e-12 cm-2 s-1 TeV-1\", reference=\"1 TeV\"\n",
    ")\n",
    "temporal_model1 = ExpDecayTemporalModel(t0=\"10 h\", t_ref=gti_t0.mjd * u.d)\n",
    "model = SkyModel(\n",
    "    spectral_model=spectral_model1,\n",
    "    temporal_model=temporal_model1,\n",
    "    name=\"model-test\",\n",
    ")"
   ]
  },
  {
   "cell_type": "code",
   "execution_count": 19,
   "metadata": {},
   "outputs": [
    {
     "data": {
      "text/html": [
       "<i>Table length=5</i>\n",
       "<table id=\"table140582483097528\" class=\"table-striped table-bordered table-condensed\">\n",
       "<thead><tr><th>name</th><th>value</th><th>unit</th><th>min</th><th>max</th><th>frozen</th><th>error</th></tr></thead>\n",
       "<thead><tr><th>str9</th><th>float64</th><th>str14</th><th>float64</th><th>float64</th><th>bool</th><th>int64</th></tr></thead>\n",
       "<tr><td>index</td><td>2.000e+00</td><td></td><td>nan</td><td>nan</td><td>False</td><td>0.000e+00</td></tr>\n",
       "<tr><td>amplitude</td><td>1.000e-12</td><td>cm-2 s-1 TeV-1</td><td>nan</td><td>nan</td><td>False</td><td>0.000e+00</td></tr>\n",
       "<tr><td>reference</td><td>1.000e+00</td><td>TeV</td><td>nan</td><td>nan</td><td>True</td><td>0.000e+00</td></tr>\n",
       "<tr><td>t0</td><td>4.167e-01</td><td>d</td><td>nan</td><td>nan</td><td>False</td><td>0.000e+00</td></tr>\n",
       "<tr><td>t_ref</td><td>5.850e+04</td><td>d</td><td>nan</td><td>nan</td><td>True</td><td>0.000e+00</td></tr>\n",
       "</table>"
      ],
      "text/plain": [
       "<Table length=5>\n",
       "   name     value        unit        min     max   frozen   error  \n",
       "   str9    float64      str14      float64 float64  bool    int64  \n",
       "--------- --------- -------------- ------- ------- ------ ---------\n",
       "    index 2.000e+00                    nan     nan  False 0.000e+00\n",
       "amplitude 1.000e-12 cm-2 s-1 TeV-1     nan     nan  False 0.000e+00\n",
       "reference 1.000e+00            TeV     nan     nan   True 0.000e+00\n",
       "       t0 4.167e-01              d     nan     nan  False 0.000e+00\n",
       "    t_ref 5.850e+04              d     nan     nan   True 0.000e+00"
      ]
     },
     "execution_count": 19,
     "metadata": {},
     "output_type": "execute_result"
    }
   ],
   "source": [
    "model.parameters.to_table()"
   ]
  },
  {
   "cell_type": "code",
   "execution_count": 20,
   "metadata": {},
   "outputs": [],
   "source": [
    "for dataset in datasets:\n",
    "    dataset.models = model"
   ]
  },
  {
   "cell_type": "code",
   "execution_count": 21,
   "metadata": {},
   "outputs": [
    {
     "name": "stderr",
     "output_type": "stream",
     "text": [
      "/Users/giuliastratta/opt/miniconda3/envs/gammapy-0.17/lib/python3.7/site-packages/astropy/units/quantity.py:477: RuntimeWarning: overflow encountered in power\n",
      "  result = super().__array_ufunc__(function, method, *arrays, **kwargs)\n",
      "/Users/giuliastratta/opt/miniconda3/envs/gammapy-0.17/lib/python3.7/site-packages/astropy/units/quantity.py:477: RuntimeWarning: invalid value encountered in subtract\n",
      "  result = super().__array_ufunc__(function, method, *arrays, **kwargs)\n"
     ]
    },
    {
     "name": "stdout",
     "output_type": "stream",
     "text": [
      "CPU times: user 6.91 s, sys: 20.7 ms, total: 6.93 s\n",
      "Wall time: 6.94 s\n"
     ]
    }
   ],
   "source": [
    "%%time\n",
    "# Do a joint fit\n",
    "fit = Fit(datasets)\n",
    "result = fit.run()"
   ]
  },
  {
   "cell_type": "code",
   "execution_count": 22,
   "metadata": {},
   "outputs": [
    {
     "data": {
      "text/html": [
       "<i>Table length=5</i>\n",
       "<table id=\"table140582483348000\" class=\"table-striped table-bordered table-condensed\">\n",
       "<thead><tr><th>name</th><th>value</th><th>unit</th><th>min</th><th>max</th><th>frozen</th><th>error</th></tr></thead>\n",
       "<thead><tr><th>str9</th><th>float64</th><th>str14</th><th>float64</th><th>float64</th><th>bool</th><th>float64</th></tr></thead>\n",
       "<tr><td>index</td><td>5.472e+00</td><td></td><td>nan</td><td>nan</td><td>False</td><td>8.039e-02</td></tr>\n",
       "<tr><td>amplitude</td><td>6.716e-12</td><td>cm-2 s-1 TeV-1</td><td>nan</td><td>nan</td><td>False</td><td>5.998e-13</td></tr>\n",
       "<tr><td>reference</td><td>1.000e+00</td><td>TeV</td><td>nan</td><td>nan</td><td>True</td><td>0.000e+00</td></tr>\n",
       "<tr><td>t0</td><td>3.356e-01</td><td>d</td><td>nan</td><td>nan</td><td>False</td><td>3.042e-01</td></tr>\n",
       "<tr><td>t_ref</td><td>5.850e+04</td><td>d</td><td>nan</td><td>nan</td><td>True</td><td>0.000e+00</td></tr>\n",
       "</table>"
      ],
      "text/plain": [
       "<Table length=5>\n",
       "   name     value        unit        min     max   frozen   error  \n",
       "   str9    float64      str14      float64 float64  bool   float64 \n",
       "--------- --------- -------------- ------- ------- ------ ---------\n",
       "    index 5.472e+00                    nan     nan  False 8.039e-02\n",
       "amplitude 6.716e-12 cm-2 s-1 TeV-1     nan     nan  False 5.998e-13\n",
       "reference 1.000e+00            TeV     nan     nan   True 0.000e+00\n",
       "       t0 3.356e-01              d     nan     nan  False 3.042e-01\n",
       "    t_ref 5.850e+04              d     nan     nan   True 0.000e+00"
      ]
     },
     "execution_count": 22,
     "metadata": {},
     "output_type": "execute_result"
    }
   ],
   "source": [
    "result.parameters.to_table()"
   ]
  },
  {
   "cell_type": "markdown",
   "metadata": {},
   "source": [
    "We see that the fitted parameters match well with the simulated ones!"
   ]
  },
  {
   "cell_type": "code",
   "execution_count": 23,
   "metadata": {},
   "outputs": [],
   "source": [
    "cnts = []\n",
    "npreds = []\n",
    "times = []\n",
    "lvtm = []\n",
    "exposure = []\n",
    "for ds in datasets:\n",
    "    cnts.append(ds.counts.data.sum())\n",
    "    npreds.append(ds.npred().data.sum())\n",
    "    lvtm.append(ds.livetime.value)\n",
    "    exposure.append(ds.exposure.data.sum())\n",
    "    times.append((ds.gti.time_start + ds.gti.time_delta/2.0).mjd)\n",
    "residuals = (np.array(cnts) - np.array(npreds))/np.array(npreds)"
   ]
  },
  {
   "cell_type": "code",
   "execution_count": 24,
   "metadata": {},
   "outputs": [
    {
     "data": {
      "text/plain": [
       "<matplotlib.lines.Line2D at 0x7fdbe99314e0>"
      ]
     },
     "execution_count": 24,
     "metadata": {},
     "output_type": "execute_result"
    },
    {
     "data": {
      "image/png": "[encoded data removed]",
      "text/plain": [
       "<Figure size 864x288 with 2 Axes>"
      ]
     },
     "metadata": {
      "needs_background": "light"
     },
     "output_type": "display_data"
    }
   ],
   "source": [
    "fig = plt.figure(figsize=(12, 4))\n",
    "\n",
    "ax1 = fig.add_subplot(2, 1, 1)\n",
    "ax1.plot(times, cnts, \"*\")\n",
    "ax1.plot(times, npreds, \"+\")\n",
    "\n",
    "ax2 = fig.add_subplot(2, 1, 2)\n",
    "ax2.plot(times, residuals, \"o\")\n",
    "ax2.axhline(0, color=\"black\", lw=0.5)"
   ]
  },
  {
   "cell_type": "code",
   "execution_count": null,
   "metadata": {},
   "outputs": [],
   "source": []
  },
  {
   "cell_type": "code",
   "execution_count": null,
   "metadata": {},
   "outputs": [],
   "source": []
  }
 ],
 "metadata": {
  "kernelspec": {
   "display_name": "Python 3",
   "language": "python",
   "name": "python3"
  },
  "language_info": {
   "codemirror_mode": {
    "name": "ipython",
    "version": 3
   },
   "file_extension": ".py",
   "mimetype": "text/x-python",
   "name": "python",
   "nbconvert_exporter": "python",
   "pygments_lexer": "ipython3",
   "version": "3.7.0"
  }
 },
 "nbformat": 4,
 "nbformat_minor": 4
}
